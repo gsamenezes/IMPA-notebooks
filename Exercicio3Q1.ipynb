{
 "cells": [
  {
   "cell_type": "markdown",
   "metadata": {},
   "source": [
    "# Exercício 3 - NLP"
   ]
  },
  {
   "cell_type": "markdown",
   "metadata": {},
   "source": [
    "### Questão 1\n",
    "Objetivo: prever se uma mensagem é spam ou não.\n",
    "\n",
    "a) Qual porcentagem dos documentos são spam?\n",
    "\n",
    "b) Usando mala de palavras (CountVectorizer), qual é o token mais longo do vocabulário dos dados de treinamento? Utilize o modelo de classificação multinomial Naive Bayes e encontre a (AUC) usando os dados de teste.\n",
    "\n",
    "c) Utilize o vetorizador Tf-idf nos dados de treinamento. Quais 20 características têm o menor tf-idf e quais 20 têm o maior tf-idf? Coloque essas características em duas séries, onde cada série é classificada pelo valor tf-idf e, em seguida, em ordem alfabética pelo nome da característica. O índice da série deve ser o nome da característica e os dados devem ser o tf-idf. A série de 20 características com o menor tf-idfs deve ser classificada de forma crescente, a lista de 20 características com o maior tf-idfs deve ser classificada de forma decrescente. \n",
    "\n",
    "d) Utilize o vetorizador Tf-idf nos dados de treinamento, ignorando termos menor que 3. Use o modelo classificador multinomial Naive Bayes com alfa = 0.1, e então calcule a pontuação AUC usando os dados de teste. Avalie com diferentes valores para o parâmetro alfa e descreva brevemente como esse parâmetro se comporta no modelo.\n",
    "\n",
    "e) Qual é o tamanho médio dos documentos (número de caracteres) para documentos não-spam e documentos spam? Utilize o vetorizador Tf-idf nos dados de treinamento, ignorando termos menor que 5. Usando essa matriz de termos de documento e um característica adicional (o comprimento do documento (número de caracteres)), treine um modelo SVC, e em seguida, calcule a AUC usando os dados de teste. Avalie com diferentes valores para o parâmetro de regularização C e descreva brevemente como esse parâmetro se comporta no modelo.\n",
    "\n",
    "f) Qual é o número médio de dígitos por documento para documentos não-spam e documentos spam? Utilize o vetorizador Tf-idf nos dados de treinamento, ignorando termos menor que 5 e utilize unigramas, bigramas e trigramas. Usando essa matriz de termos de documento e duas características adicionais (o comprimento do documento e o número médio de dígitos por documento) treine um modelo de regressão logística, e em seguida, calcule a AUC usando os dados de teste. Avalie com diferentes valores para o parâmetro de regularização C e descreva brevemente como esse parâmetro se comporta no modelo.\n",
    "\n",
    "g) Qual é o número médio de caracteres que não são palavras (tudo que não é uma letra, dígito ou underscore) por documento para documentos não-spam e documentos spam? Dica: use as classes de caracteres \\w e \\W do pacote re (regular expressions). Utilize o vetorizador CountVectorizer nos dados de treinamento, ignorando termos menor que 5 e utilize unigramas, bigramas e trigramas. Usando esta matriz de termos de documento e as seguintes características adicionais: o comprimento do documento, número de dígitos por documento, e o número de caracteres que não são palavras (tudo que não é uma letra, dígito ou underscore), treine um modelo de regressão logística, e em seguida, calcule a AUC usando os dados de teste. Avalie com diferentes valores para o parâmetro de regularização C e descreva brevemente como esse parâmetro se comporta no modelo. Encontre os 10 menores e os 10 maiores coeficientes do modelo e retorne-os juntamente com a pontuação da AUC em uma tupla. A lista dos 10 menores coeficientes deve ser classificada de forma crescente, a lista dos 10 maiores coeficientes de forma decrescente."
   ]
  },
  {
   "cell_type": "code",
   "execution_count": 1,
   "metadata": {},
   "outputs": [],
   "source": [
    "import numpy as np\n",
    "import pandas as pd\n",
    "import string\n",
    "import re\n",
    "import nltk\n",
    "import matplotlib.pyplot as plt\n",
    "from scipy.sparse import csr_matrix, hstack\n",
    "from sklearn.model_selection import train_test_split\n",
    "from sklearn.feature_extraction.text import CountVectorizer\n",
    "from sklearn.feature_extraction.text import TfidfVectorizer\n",
    "from sklearn.naive_bayes import MultinomialNB\n",
    "from sklearn.svm import SVC\n",
    "from sklearn.linear_model import LogisticRegression\n",
    "from sklearn.metrics import auc, roc_curve, roc_auc_score\n",
    "import warnings\n",
    "warnings.simplefilter(\"ignore\")"
   ]
  },
  {
   "cell_type": "code",
   "execution_count": 2,
   "metadata": {},
   "outputs": [],
   "source": [
    "df = pd.read_csv('spam.csv')"
   ]
  },
  {
   "cell_type": "code",
   "execution_count": 3,
   "metadata": {},
   "outputs": [
    {
     "data": {
      "text/html": [
       "<div>\n",
       "<style scoped>\n",
       "    .dataframe tbody tr th:only-of-type {\n",
       "        vertical-align: middle;\n",
       "    }\n",
       "\n",
       "    .dataframe tbody tr th {\n",
       "        vertical-align: top;\n",
       "    }\n",
       "\n",
       "    .dataframe thead th {\n",
       "        text-align: right;\n",
       "    }\n",
       "</style>\n",
       "<table border=\"1\" class=\"dataframe\">\n",
       "  <thead>\n",
       "    <tr style=\"text-align: right;\">\n",
       "      <th></th>\n",
       "      <th>text</th>\n",
       "      <th>target</th>\n",
       "    </tr>\n",
       "  </thead>\n",
       "  <tbody>\n",
       "    <tr>\n",
       "      <td>0</td>\n",
       "      <td>Go until jurong point, crazy.. Available only ...</td>\n",
       "      <td>ham</td>\n",
       "    </tr>\n",
       "    <tr>\n",
       "      <td>1</td>\n",
       "      <td>Ok lar... Joking wif u oni...</td>\n",
       "      <td>ham</td>\n",
       "    </tr>\n",
       "    <tr>\n",
       "      <td>2</td>\n",
       "      <td>Free entry in 2 a wkly comp to win FA Cup fina...</td>\n",
       "      <td>spam</td>\n",
       "    </tr>\n",
       "    <tr>\n",
       "      <td>3</td>\n",
       "      <td>U dun say so early hor... U c already then say...</td>\n",
       "      <td>ham</td>\n",
       "    </tr>\n",
       "    <tr>\n",
       "      <td>4</td>\n",
       "      <td>Nah I don't think he goes to usf, he lives aro...</td>\n",
       "      <td>ham</td>\n",
       "    </tr>\n",
       "    <tr>\n",
       "      <td>5</td>\n",
       "      <td>FreeMsg Hey there darling it's been 3 week's n...</td>\n",
       "      <td>spam</td>\n",
       "    </tr>\n",
       "    <tr>\n",
       "      <td>6</td>\n",
       "      <td>Even my brother is not like to speak with me. ...</td>\n",
       "      <td>ham</td>\n",
       "    </tr>\n",
       "    <tr>\n",
       "      <td>7</td>\n",
       "      <td>As per your request 'Melle Melle (Oru Minnamin...</td>\n",
       "      <td>ham</td>\n",
       "    </tr>\n",
       "    <tr>\n",
       "      <td>8</td>\n",
       "      <td>WINNER!! As a valued network customer you have...</td>\n",
       "      <td>spam</td>\n",
       "    </tr>\n",
       "    <tr>\n",
       "      <td>9</td>\n",
       "      <td>Had your mobile 11 months or more? U R entitle...</td>\n",
       "      <td>spam</td>\n",
       "    </tr>\n",
       "  </tbody>\n",
       "</table>\n",
       "</div>"
      ],
      "text/plain": [
       "                                                text target\n",
       "0  Go until jurong point, crazy.. Available only ...    ham\n",
       "1                      Ok lar... Joking wif u oni...    ham\n",
       "2  Free entry in 2 a wkly comp to win FA Cup fina...   spam\n",
       "3  U dun say so early hor... U c already then say...    ham\n",
       "4  Nah I don't think he goes to usf, he lives aro...    ham\n",
       "5  FreeMsg Hey there darling it's been 3 week's n...   spam\n",
       "6  Even my brother is not like to speak with me. ...    ham\n",
       "7  As per your request 'Melle Melle (Oru Minnamin...    ham\n",
       "8  WINNER!! As a valued network customer you have...   spam\n",
       "9  Had your mobile 11 months or more? U R entitle...   spam"
      ]
     },
     "execution_count": 3,
     "metadata": {},
     "output_type": "execute_result"
    }
   ],
   "source": [
    "df.head(10)"
   ]
  },
  {
   "cell_type": "code",
   "execution_count": 4,
   "metadata": {
    "scrolled": true
   },
   "outputs": [
    {
     "data": {
      "text/html": [
       "<div>\n",
       "<style scoped>\n",
       "    .dataframe tbody tr th:only-of-type {\n",
       "        vertical-align: middle;\n",
       "    }\n",
       "\n",
       "    .dataframe tbody tr th {\n",
       "        vertical-align: top;\n",
       "    }\n",
       "\n",
       "    .dataframe thead th {\n",
       "        text-align: right;\n",
       "    }\n",
       "</style>\n",
       "<table border=\"1\" class=\"dataframe\">\n",
       "  <thead>\n",
       "    <tr style=\"text-align: right;\">\n",
       "      <th></th>\n",
       "      <th>text</th>\n",
       "      <th>target</th>\n",
       "    </tr>\n",
       "  </thead>\n",
       "  <tbody>\n",
       "    <tr>\n",
       "      <td>0</td>\n",
       "      <td>Go until jurong point, crazy.. Available only ...</td>\n",
       "      <td>0</td>\n",
       "    </tr>\n",
       "    <tr>\n",
       "      <td>1</td>\n",
       "      <td>Ok lar... Joking wif u oni...</td>\n",
       "      <td>0</td>\n",
       "    </tr>\n",
       "    <tr>\n",
       "      <td>2</td>\n",
       "      <td>Free entry in 2 a wkly comp to win FA Cup fina...</td>\n",
       "      <td>1</td>\n",
       "    </tr>\n",
       "    <tr>\n",
       "      <td>3</td>\n",
       "      <td>U dun say so early hor... U c already then say...</td>\n",
       "      <td>0</td>\n",
       "    </tr>\n",
       "    <tr>\n",
       "      <td>4</td>\n",
       "      <td>Nah I don't think he goes to usf, he lives aro...</td>\n",
       "      <td>0</td>\n",
       "    </tr>\n",
       "  </tbody>\n",
       "</table>\n",
       "</div>"
      ],
      "text/plain": [
       "                                                text  target\n",
       "0  Go until jurong point, crazy.. Available only ...       0\n",
       "1                      Ok lar... Joking wif u oni...       0\n",
       "2  Free entry in 2 a wkly comp to win FA Cup fina...       1\n",
       "3  U dun say so early hor... U c already then say...       0\n",
       "4  Nah I don't think he goes to usf, he lives aro...       0"
      ]
     },
     "execution_count": 4,
     "metadata": {},
     "output_type": "execute_result"
    }
   ],
   "source": [
    "df['target'] = np.where(df['target']=='spam',1,0)\n",
    "df.head()"
   ]
  },
  {
   "cell_type": "code",
   "execution_count": 5,
   "metadata": {},
   "outputs": [],
   "source": [
    "# Criando uma cópia\n",
    "temp_df = df.copy()"
   ]
  },
  {
   "cell_type": "code",
   "execution_count": 6,
   "metadata": {},
   "outputs": [
    {
     "name": "stdout",
     "output_type": "stream",
     "text": [
      "<class 'pandas.core.frame.DataFrame'>\n",
      "RangeIndex: 5572 entries, 0 to 5571\n",
      "Data columns (total 2 columns):\n",
      "text      5572 non-null object\n",
      "target    5572 non-null int32\n",
      "dtypes: int32(1), object(1)\n",
      "memory usage: 65.4+ KB\n"
     ]
    }
   ],
   "source": [
    "df.info()"
   ]
  },
  {
   "cell_type": "markdown",
   "metadata": {},
   "source": [
    "# a)"
   ]
  },
  {
   "cell_type": "code",
   "execution_count": 7,
   "metadata": {},
   "outputs": [
    {
     "name": "stdout",
     "output_type": "stream",
     "text": [
      "Total: 5572\n",
      "    Spam: 747 (13.41% do total)\n"
     ]
    }
   ],
   "source": [
    "neg, pos = np.bincount(df['target'])\n",
    "total = neg + pos\n",
    "print('Total: {}\\n    Spam: {} ({:.2f}% do total)'.format(total, pos, 100 * pos / total))"
   ]
  },
  {
   "cell_type": "markdown",
   "metadata": {},
   "source": [
    "Um dataset desbalanceado"
   ]
  },
  {
   "cell_type": "markdown",
   "metadata": {},
   "source": [
    "# Vetorização do dataframe"
   ]
  },
  {
   "cell_type": "markdown",
   "metadata": {},
   "source": [
    "# b)"
   ]
  },
  {
   "cell_type": "code",
   "execution_count": 8,
   "metadata": {},
   "outputs": [],
   "source": [
    "# Dividindo o dataframe:\n",
    "\n",
    "X_train, X_test, y_train, y_test = train_test_split(df['text'], \n",
    "                                                    df['target'], \n",
    "                                                    random_state=0)"
   ]
  },
  {
   "cell_type": "code",
   "execution_count": 9,
   "metadata": {},
   "outputs": [],
   "source": [
    "# Count Vectorizer\n",
    "\n",
    "count_vect = CountVectorizer()\n",
    "X_train_vec = count_vect.fit_transform(X_train)\n",
    "X_test_vec = count_vect.transform(X_test)"
   ]
  },
  {
   "cell_type": "code",
   "execution_count": 10,
   "metadata": {},
   "outputs": [],
   "source": [
    "feature_names = count_vect.get_feature_names()"
   ]
  },
  {
   "cell_type": "code",
   "execution_count": 11,
   "metadata": {},
   "outputs": [
    {
     "name": "stdout",
     "output_type": "stream",
     "text": [
      "O token mais longo é: com1win150ppmx3age16subscription\n"
     ]
    }
   ],
   "source": [
    "print('O token mais longo é: ' + sorted(feature_names, key=len)[-1])"
   ]
  },
  {
   "cell_type": "code",
   "execution_count": 12,
   "metadata": {},
   "outputs": [
    {
     "name": "stdout",
     "output_type": "stream",
     "text": [
      "O melhor valor de alpha para o modelo:  0.2\n",
      "O valor do ROC AUC para o melhor alpha:  0.991732169838548\n"
     ]
    }
   ],
   "source": [
    "# Achando o melhor alpha\n",
    "\n",
    "auc_scores=[]\n",
    "for alpha in np.arange(0.01,1,0.01):\n",
    "    model = MultinomialNB(alpha)\n",
    "    model.fit(X_train_vec,  y_train)\n",
    "    probs = model.predict_proba(X_test_vec)\n",
    "    probs = probs[:, 1]\n",
    "    auc_scores.append(roc_auc_score(y_test,probs))\n",
    "auc_scores = np.array(auc_scores)\n",
    "print('O melhor valor de alpha para o modelo: ', round(np.arange(0.01,5,0.01)[np.argmax(auc_scores)],3))\n",
    "print('O valor do ROC AUC para o melhor alpha: ', max(auc_scores))"
   ]
  },
  {
   "cell_type": "code",
   "execution_count": 13,
   "metadata": {},
   "outputs": [
    {
     "name": "stdout",
     "output_type": "stream",
     "text": [
      "Multinomial Naive Bayes: ROC AUC=0.991732\n"
     ]
    },
    {
     "data": {
      "image/png": "[encoded data removed]",
      "text/plain": [
       "<Figure size 1080x540 with 1 Axes>"
      ]
     },
     "metadata": {
      "needs_background": "light"
     },
     "output_type": "display_data"
    }
   ],
   "source": [
    "# Plot da curva ROC\n",
    "\n",
    "model = MultinomialNB(alpha=0.2)\n",
    "model.fit(X_train_vec,  y_train)\n",
    "probs = model.predict_proba(X_test_vec)\n",
    "probs = probs[:, 1]\n",
    "auc = roc_auc_score(y_test,probs)\n",
    "print('Multinomial Naive Bayes: ROC AUC=%.6f' % (auc))\n",
    "fpr, tpr, _ = roc_curve(y_test, probs)\n",
    "plt.figure(figsize=[15,7.5])\n",
    "plt.plot(fpr, tpr, marker='.', label='Multinomial Naive Bayes')\n",
    "plt.xlabel('False Positive Rate')\n",
    "plt.ylabel('True Positive Rate')\n",
    "plt.legend()\n",
    "plt.show()"
   ]
  },
  {
   "cell_type": "markdown",
   "metadata": {},
   "source": [
    "# Usando TF-IDF"
   ]
  },
  {
   "cell_type": "markdown",
   "metadata": {},
   "source": [
    "# c)"
   ]
  },
  {
   "cell_type": "code",
   "execution_count": 14,
   "metadata": {},
   "outputs": [],
   "source": [
    "# TF-IDF Vectorizer\n",
    "\n",
    "tfidf_vect = TfidfVectorizer()\n",
    "X_train_tfidf = tfidf_vect.fit_transform(X_train)\n",
    "X_test_tfidf = tfidf_vect.transform(X_test)"
   ]
  },
  {
   "cell_type": "code",
   "execution_count": 15,
   "metadata": {},
   "outputs": [],
   "source": [
    "feature_names = tfidf_vect.get_feature_names()"
   ]
  },
  {
   "cell_type": "code",
   "execution_count": 16,
   "metadata": {},
   "outputs": [],
   "source": [
    "# Obtendo um dicionário contendo as palavras e o valor TD-IDF:\n",
    "\n",
    "palavras_tfidf={}\n",
    "for doc in range(0, X_train_tfidf.shape[0]):\n",
    "    feature_index = X_train_tfidf[doc,:].nonzero()[1]\n",
    "    tfidf_scores = zip(feature_index, [X_train_tfidf[doc, x] for x in feature_index])\n",
    "    for w, s in [(feature_names[i], s) for (i, s) in tfidf_scores]:\n",
    "        palavras_tfidf[w]=s\n",
    "palavras_tfidf = sorted(palavras_tfidf.items(), key=lambda x: x[1])"
   ]
  },
  {
   "cell_type": "code",
   "execution_count": 17,
   "metadata": {},
   "outputs": [],
   "source": [
    "palavras_tfidf_sort={}\n",
    "for i in range(0, len(palavras_tfidf)):\n",
    "          palavras_tfidf_sort[palavras_tfidf[i][0]]=palavras_tfidf[i][1]  "
   ]
  },
  {
   "cell_type": "code",
   "execution_count": 18,
   "metadata": {},
   "outputs": [],
   "source": [
    "menores = {}\n",
    "for keys, i in zip(list(palavras_tfidf_sort.keys()), range(0,20)):\n",
    "    menores[keys] = palavras_tfidf_sort[keys]"
   ]
  },
  {
   "cell_type": "code",
   "execution_count": 19,
   "metadata": {},
   "outputs": [],
   "source": [
    "maiores={}\n",
    "keys = [list(palavras_tfidf_sort.keys())[i] for i in range(-21, 0)]\n",
    "for key, i in zip(keys, range(0,20)):\n",
    "    maiores[key] = palavras_tfidf_sort[key]"
   ]
  },
  {
   "cell_type": "code",
   "execution_count": 20,
   "metadata": {},
   "outputs": [
    {
     "data": {
      "text/plain": [
       "aaniye          0.074475\n",
       "athletic        0.074475\n",
       "boyfriend       0.070982\n",
       "chef            0.074475\n",
       "courageous      0.074475\n",
       "dependable      0.074475\n",
       "determined      0.074475\n",
       "exterminator    0.074475\n",
       "healer          0.074475\n",
       "intelligent     0.068503\n",
       "listener        0.074475\n",
       "organizer       0.074475\n",
       "pest            0.074475\n",
       "problem         0.068719\n",
       "psychiatrist    0.074475\n",
       "psychologist    0.074475\n",
       "pudunga         0.074475\n",
       "stylist         0.074475\n",
       "sympathetic     0.074475\n",
       "venaam          0.074475\n",
       "dtype: float64"
      ]
     },
     "execution_count": 20,
     "metadata": {},
     "output_type": "execute_result"
    }
   ],
   "source": [
    "serie_menores=pd.Series(menores)\n",
    "serie_menores.sort_index(ascending=True, inplace=True)\n",
    "serie_menores"
   ]
  },
  {
   "cell_type": "code",
   "execution_count": 21,
   "metadata": {},
   "outputs": [
    {
     "data": {
      "text/plain": [
       "wrkin           0.829797\n",
       "tick            0.980166\n",
       "thanx           1.000000\n",
       "thanks2         0.859835\n",
       "stalking        0.802985\n",
       "significance    0.875113\n",
       "romantic        0.840358\n",
       "okie            1.000000\n",
       "ok              1.000000\n",
       "nervous         0.828181\n",
       "fetch           0.865126\n",
       "er              1.000000\n",
       "ello            0.796417\n",
       "dependents      0.798033\n",
       "continent       0.874661\n",
       "comingdown      0.807953\n",
       "bloo            0.908409\n",
       "blank           0.932702\n",
       "beerage         1.000000\n",
       "146tf150p       1.000000\n",
       "dtype: float64"
      ]
     },
     "execution_count": 21,
     "metadata": {},
     "output_type": "execute_result"
    }
   ],
   "source": [
    "serie_maiores=pd.Series(maiores)\n",
    "serie_maiores.sort_index(ascending=False,inplace=True)\n",
    "serie_maiores"
   ]
  },
  {
   "cell_type": "markdown",
   "metadata": {},
   "source": [
    "# d)"
   ]
  },
  {
   "cell_type": "code",
   "execution_count": 22,
   "metadata": {},
   "outputs": [],
   "source": [
    "tfidf_vect = TfidfVectorizer(min_df=3)\n",
    "X_train_tfidf = tfidf_vect.fit_transform(X_train)\n",
    "X_test_tfidf = tfidf_vect.transform(X_test)"
   ]
  },
  {
   "cell_type": "code",
   "execution_count": 23,
   "metadata": {
    "scrolled": false
   },
   "outputs": [
    {
     "name": "stdout",
     "output_type": "stream",
     "text": [
      "Multinomial Naive Bayes com alpha 0.1: ROC AUC = 0.9954968337775665\n"
     ]
    },
    {
     "data": {
      "image/png": "[encoded data removed]",
      "text/plain": [
       "<Figure size 1080x540 with 1 Axes>"
      ]
     },
     "metadata": {
      "needs_background": "light"
     },
     "output_type": "display_data"
    }
   ],
   "source": [
    "# Plot da curva ROC\n",
    "plt.figure(figsize=[15,7.5])\n",
    "alpha = 0.1\n",
    "model = MultinomialNB(alpha)\n",
    "model.fit(X_train_tfidf,  y_train)\n",
    "probs = model.predict_proba(X_test_tfidf)\n",
    "probs = probs[:, 1]\n",
    "auc = roc_auc_score(y_test,probs)\n",
    "print('Multinomial Naive Bayes com alpha {}: ROC AUC = {}'.format(alpha, auc))\n",
    "fpr, tpr, _ = roc_curve(y_test, probs)\n",
    "plt.plot(fpr, tpr, marker='.', label='Multinomial Naive Bayes')\n",
    "plt.xlabel('False Positive Rate')\n",
    "plt.ylabel('True Positive Rate')\n",
    "plt.legend()\n",
    "plt.show()"
   ]
  },
  {
   "cell_type": "code",
   "execution_count": 24,
   "metadata": {},
   "outputs": [
    {
     "name": "stdout",
     "output_type": "stream",
     "text": [
      "O melhor valor de alpha para o modelo:  0.08\n",
      "O valor do ROC AUC para o melhor alpha:  0.9955392764375329\n"
     ]
    }
   ],
   "source": [
    "auc_scores=[]\n",
    "for alpha in np.arange(0.01,1,0.01):\n",
    "    model = MultinomialNB(alpha)\n",
    "    model.fit(X_train_tfidf,  y_train)\n",
    "    probs = model.predict_proba(X_test_tfidf)\n",
    "    probs = probs[:, 1]\n",
    "    auc_scores.append(roc_auc_score(y_test,probs))\n",
    "auc_scores = np.array(auc_scores)\n",
    "print('O melhor valor de alpha para o modelo: ', round(np.arange(0.01,5,0.01)[np.argmax(auc_scores)],3))\n",
    "print('O valor do ROC AUC para o melhor alpha: ', max(auc_scores))"
   ]
  },
  {
   "cell_type": "code",
   "execution_count": 25,
   "metadata": {
    "scrolled": false
   },
   "outputs": [
    {
     "data": {
      "image/png": "[encoded data removed]",
      "text/plain": [
       "<Figure size 1080x540 with 1 Axes>"
      ]
     },
     "metadata": {
      "needs_background": "light"
     },
     "output_type": "display_data"
    }
   ],
   "source": [
    "# Plot de ROC AUC X Alpha\n",
    "\n",
    "plt.figure(figsize=[15,7.5])\n",
    "plt.plot(np.arange(0.01,1,0.01), auc_scores)\n",
    "plt.xlabel('Alpha')\n",
    "plt.ylabel('ROC-AUC Score')\n",
    "plt.show()"
   ]
  },
  {
   "cell_type": "markdown",
   "metadata": {},
   "source": [
    "# e)"
   ]
  },
  {
   "cell_type": "code",
   "execution_count": 26,
   "metadata": {},
   "outputs": [],
   "source": [
    "# Encontrando o tamanho médio dos e-mails:\n",
    "temp_df['len'] = temp_df['text'].str.len()\n",
    "mean_length = temp_df.groupby('target')['len'].agg('mean').values"
   ]
  },
  {
   "cell_type": "code",
   "execution_count": 27,
   "metadata": {},
   "outputs": [
    {
     "name": "stdout",
     "output_type": "stream",
     "text": [
      "O valor médio do tamanho dos documentos nos e-mails spam  é: 139\n",
      "O valor médio do tamanho dos documentos nos e-mails não spam  é: 71\n"
     ]
    }
   ],
   "source": [
    "print('O valor médio do tamanho dos documentos nos e-mails spam  é: {}'.format(int(round((mean_length[1]), 0))))\n",
    "print('O valor médio do tamanho dos documentos nos e-mails não spam  é: {}'.format(int(round((mean_length[0]), 0))))"
   ]
  },
  {
   "cell_type": "code",
   "execution_count": 28,
   "metadata": {},
   "outputs": [],
   "source": [
    "# Adicionar característica para sparse matrix:\n",
    "\n",
    "def new_carac(X, carac):\n",
    "    return hstack([X, csr_matrix(carac).T], 'csr')"
   ]
  },
  {
   "cell_type": "code",
   "execution_count": 29,
   "metadata": {},
   "outputs": [],
   "source": [
    "X_train, X_test, y_train, y_test = train_test_split(temp_df.drop('target', axis=1), temp_df['target'] , random_state=0)"
   ]
  },
  {
   "cell_type": "code",
   "execution_count": 30,
   "metadata": {},
   "outputs": [],
   "source": [
    "tfidf_vect = TfidfVectorizer(min_df=5)\n",
    "X_train_tfidf = tfidf_vect.fit_transform(X_train['text'])\n",
    "X_test_tfidf = tfidf_vect.transform(X_test['text'])\n",
    "X_train_tfidf = new_carac(X_train_tfidf, X_train['len'])\n",
    "X_test_tfidf = new_carac(X_test_tfidf, X_test['len'])"
   ]
  },
  {
   "cell_type": "code",
   "execution_count": 31,
   "metadata": {},
   "outputs": [
    {
     "data": {
      "text/plain": [
       "0.806020066889632"
      ]
     },
     "execution_count": 31,
     "metadata": {},
     "output_type": "execute_result"
    }
   ],
   "source": [
    "# Treinando o modelo com o parametro C=1 (default):\n",
    "\n",
    "model = SVC()\n",
    "model.fit(X_train_tfidf,  y_train)\n",
    "y_score = model.decision_function(X_test_tfidf)\n",
    "roc_auc_score(y_test, y_score)"
   ]
  },
  {
   "cell_type": "markdown",
   "metadata": {},
   "source": [
    "Um resultado muito ruim. Vamos tentar melhorar a métrica mudando o valor de C"
   ]
  },
  {
   "cell_type": "code",
   "execution_count": 32,
   "metadata": {},
   "outputs": [
    {
     "name": "stdout",
     "output_type": "stream",
     "text": [
      "O melhor valor de C para o modelo:  951\n",
      "O valor do ROC AUC para o melhor C:  0.9957514897373648\n"
     ]
    }
   ],
   "source": [
    "auc_scores=[]\n",
    "for n in np.arange(1, 1000 , 50):\n",
    "    model = SVC(C=n)\n",
    "    model.fit(X_train_tfidf,  y_train)\n",
    "    y_score = model.decision_function(X_test_tfidf)\n",
    "    auc_scores.append(roc_auc_score(y_test, y_score))\n",
    "print('O melhor valor de C para o modelo: ', round(np.arange(1, 1000, 50)[np.argmax(auc_scores)],3))\n",
    "print('O valor do ROC AUC para o melhor C: ', max(auc_scores))"
   ]
  },
  {
   "cell_type": "code",
   "execution_count": 33,
   "metadata": {},
   "outputs": [
    {
     "data": {
      "image/png": "[encoded data removed]",
      "text/plain": [
       "<Figure size 1080x540 with 1 Axes>"
      ]
     },
     "metadata": {
      "needs_background": "light"
     },
     "output_type": "display_data"
    }
   ],
   "source": [
    "# Plot de ROC-AUC x C\n",
    "plt.figure(figsize=[15,7.5])\n",
    "plt.plot(np.arange(1, 1000 , 50), auc_scores)\n",
    "plt.xlabel('C')\n",
    "plt.ylabel('ROC-AUC Score')\n",
    "plt.show()"
   ]
  },
  {
   "cell_type": "markdown",
   "metadata": {},
   "source": [
    "Podemos notar que encontrar o melhor de C não é tão simples quanto encontrar o valor de alpha, uma vez que o fit do algoritmo SVC demora muito mais do que o MultinomialNB. No entanto, é possível encontrar um valor mais alto da métrica ROC-AUC do que o modelo anterior para um C mais elevado."
   ]
  },
  {
   "cell_type": "markdown",
   "metadata": {},
   "source": [
    "# f)"
   ]
  },
  {
   "cell_type": "code",
   "execution_count": 34,
   "metadata": {},
   "outputs": [
    {
     "name": "stdout",
     "output_type": "stream",
     "text": [
      "O valor médio do número de caracteres nos e-mails spam  é: 15.759\n",
      "O valor médio do número de caracteres nos e-mails não spam  é: 0.299\n"
     ]
    }
   ],
   "source": [
    "temp_df['digits_count'] = temp_df['text'].apply(lambda row: len(re.findall(r'(\\d)', row)))\n",
    "average_digits = temp_df.groupby('target')['digits_count'].agg('mean').values\n",
    "print('O valor médio do número de caracteres nos e-mails spam  é: {}'.format((round((average_digits[1]), 3))))\n",
    "print('O valor médio do número de caracteres nos e-mails não spam  é: {}'.format(round((average_digits[0]), 3)))"
   ]
  },
  {
   "cell_type": "code",
   "execution_count": 35,
   "metadata": {},
   "outputs": [],
   "source": [
    "X_train, X_test, y_train, y_test = train_test_split(temp_df.drop('target', axis=1), temp_df['target'], random_state=0)"
   ]
  },
  {
   "cell_type": "code",
   "execution_count": 36,
   "metadata": {},
   "outputs": [],
   "source": [
    "tfidf_vect = TfidfVectorizer(min_df=5, ngram_range=(1, 3))\n",
    "X_train_tfidf = tfidf_vect.fit_transform(X_train['text'])\n",
    "X_test_tfidf = tfidf_vect.transform(X_test['text'])\n",
    "X_train_tfidf = new_carac(X_train_tfidf, X_train['len'])\n",
    "X_test_tfidf = new_carac(X_test_tfidf, X_test['len'])\n",
    "X_train_tfidf = new_carac(X_train_tfidf, X_train['digits_count'])\n",
    "X_test_tfidf = new_carac(X_test_tfidf, X_test['digits_count'])"
   ]
  },
  {
   "cell_type": "code",
   "execution_count": 37,
   "metadata": {},
   "outputs": [
    {
     "data": {
      "text/plain": [
       "0.9960740539531093"
      ]
     },
     "execution_count": 37,
     "metadata": {},
     "output_type": "execute_result"
    }
   ],
   "source": [
    "# Treinando o modelo com o parametro C=1 (default):\n",
    "\n",
    "model = LogisticRegression()\n",
    "model.fit(X_train_tfidf,  y_train)\n",
    "y_score = model.decision_function(X_test_tfidf)\n",
    "roc_auc_score(y_test, y_score)"
   ]
  },
  {
   "cell_type": "markdown",
   "metadata": {},
   "source": [
    "Um excelente valor, vamos tentar melhorar um pouco mais."
   ]
  },
  {
   "cell_type": "code",
   "execution_count": 38,
   "metadata": {},
   "outputs": [
    {
     "name": "stdout",
     "output_type": "stream",
     "text": [
      "O melhor valor de C para o modelo:  10.85\n",
      "O valor do ROC AUC para o melhor C:  0.9974407076040269\n"
     ]
    }
   ],
   "source": [
    "auc_scores=[]\n",
    "for n in np.arange(1, 20 , 0.05):\n",
    "    model = LogisticRegression(C=n)\n",
    "    model.fit(X_train_tfidf,  y_train)\n",
    "    y_score = model.decision_function(X_test_tfidf)\n",
    "    auc_scores.append(roc_auc_score(y_test, y_score))\n",
    "print('O melhor valor de C para o modelo: ', round(np.arange(1, 20, 0.05)[np.argmax(auc_scores)],3))\n",
    "print('O valor do ROC AUC para o melhor C: ', max(auc_scores))"
   ]
  },
  {
   "cell_type": "code",
   "execution_count": 39,
   "metadata": {},
   "outputs": [
    {
     "data": {
      "image/png": "[encoded data removed]",
      "text/plain": [
       "<Figure size 1080x540 with 1 Axes>"
      ]
     },
     "metadata": {
      "needs_background": "light"
     },
     "output_type": "display_data"
    }
   ],
   "source": [
    "# Plot de ROC-AUC x C\n",
    "plt.figure(figsize=[15,7.5])\n",
    "plt.plot(np.arange(1, 20 , 0.05), auc_scores)\n",
    "plt.xlabel('C')\n",
    "plt.ylabel('ROC-AUC Score')\n",
    "plt.show()"
   ]
  },
  {
   "cell_type": "markdown",
   "metadata": {},
   "source": [
    "# g)"
   ]
  },
  {
   "cell_type": "code",
   "execution_count": 40,
   "metadata": {},
   "outputs": [
    {
     "name": "stdout",
     "output_type": "stream",
     "text": [
      "O valor médio de caracteres que não são palavras nos e-mails spam é: 29.041\n",
      "O valor médio de caracteres que não são palavras nos e-mails não spam é: 17.292\n"
     ]
    }
   ],
   "source": [
    "temp_df['non_word'] = temp_df['text'].apply(lambda row: len(re.findall(r'\\W', row)))\n",
    "average_nonword = temp_df.groupby('target')['non_word'].agg('mean').values\n",
    "print('O valor médio de caracteres que não são palavras nos e-mails spam é: {}'.format((round((average_nonword[1]), 3))))\n",
    "print('O valor médio de caracteres que não são palavras nos e-mails não spam é: {}'.format(round((average_nonword[0]), 3)))"
   ]
  },
  {
   "cell_type": "code",
   "execution_count": 41,
   "metadata": {},
   "outputs": [],
   "source": [
    "X_train, X_test, y_train, y_test = train_test_split(temp_df.drop('target', axis=1), temp_df['target'], random_state=0)"
   ]
  },
  {
   "cell_type": "code",
   "execution_count": 42,
   "metadata": {},
   "outputs": [],
   "source": [
    "count_vect = CountVectorizer(min_df=5, ngram_range=(1, 3))\n",
    "X_train_vec = count_vect.fit_transform(X_train['text'])\n",
    "X_test_vec = count_vect.transform(X_test['text'])\n",
    "X_train_vec = new_carac(X_train_vec, X_train['len'])\n",
    "X_test_vec = new_carac(X_test_vec, X_test['len'])\n",
    "X_train_vec = new_carac(X_train_vec, X_train['digits_count'])\n",
    "X_test_vec = new_carac(X_test_vec, X_test['digits_count'])\n",
    "X_train_vec = new_carac(X_train_vec, X_train['non_word'])\n",
    "X_test_vec = new_carac(X_test_vec, X_test['non_word'])"
   ]
  },
  {
   "cell_type": "code",
   "execution_count": 43,
   "metadata": {},
   "outputs": [
    {
     "name": "stdout",
     "output_type": "stream",
     "text": [
      "O melhor valor de C para o modelo:  1.15\n",
      "O valor do ROC AUC para o melhor C:  0.997839668607711\n"
     ]
    }
   ],
   "source": [
    "auc_scores=[]\n",
    "for n in np.arange(1, 20 , 0.05):\n",
    "    model = LogisticRegression(C=n)\n",
    "    model.fit(X_train_vec,  y_train)\n",
    "    y_score = model.decision_function(X_test_vec)\n",
    "    auc_scores.append(roc_auc_score(y_test, y_score))\n",
    "print('O melhor valor de C para o modelo: ', round(np.arange(1, 20, 0.05)[np.argmax(auc_scores)],3))\n",
    "print('O valor do ROC AUC para o melhor C: ', max(auc_scores))"
   ]
  },
  {
   "cell_type": "code",
   "execution_count": 44,
   "metadata": {},
   "outputs": [
    {
     "data": {
      "image/png": "[encoded data removed]",
      "text/plain": [
       "<Figure size 1080x540 with 1 Axes>"
      ]
     },
     "metadata": {
      "needs_background": "light"
     },
     "output_type": "display_data"
    }
   ],
   "source": [
    "# Plot de ROC-AUC x C\n",
    "plt.figure(figsize=[15,7.5])\n",
    "plt.plot(np.arange(1,20 , 0.05), auc_scores)\n",
    "plt.xlabel('C')\n",
    "plt.ylabel('ROC-AUC Score')\n",
    "plt.show()"
   ]
  },
  {
   "cell_type": "markdown",
   "metadata": {},
   "source": [
    "Pode-se perceber que o ROC AUC para esse caso se comporta de forma bastante diferente do anterior."
   ]
  },
  {
   "cell_type": "code",
   "execution_count": 45,
   "metadata": {},
   "outputs": [],
   "source": [
    "feature_names = count_vect.get_feature_names()\n",
    "feature_names = np.array(count_vect.get_feature_names())"
   ]
  },
  {
   "cell_type": "code",
   "execution_count": 46,
   "metadata": {},
   "outputs": [
    {
     "data": {
      "text/plain": [
       "LogisticRegression(C=1.15, class_weight=None, dual=False, fit_intercept=True,\n",
       "                   intercept_scaling=1, l1_ratio=None, max_iter=100,\n",
       "                   multi_class='warn', n_jobs=None, penalty='l2',\n",
       "                   random_state=None, solver='warn', tol=0.0001, verbose=0,\n",
       "                   warm_start=False)"
      ]
     },
     "execution_count": 46,
     "metadata": {},
     "output_type": "execute_result"
    }
   ],
   "source": [
    "model = LogisticRegression(C=1.15)\n",
    "model.fit(X_train_vec,  y_train)"
   ]
  },
  {
   "cell_type": "code",
   "execution_count": 47,
   "metadata": {},
   "outputs": [],
   "source": [
    "sorted_coef_index = model.coef_[0].argsort()\n",
    "largest = feature_names[sorted_coef_index[:-11:-1]]\n",
    "smallest = feature_names[sorted_coef_index[:10]]"
   ]
  },
  {
   "cell_type": "code",
   "execution_count": 48,
   "metadata": {},
   "outputs": [],
   "source": [
    "score = 0.997839668607711"
   ]
  },
  {
   "cell_type": "code",
   "execution_count": 49,
   "metadata": {},
   "outputs": [],
   "source": [
    "tupla = (score,[sorted(largest, key = len, reverse=True), sorted(smallest, key = len, reverse=False)])"
   ]
  },
  {
   "cell_type": "code",
   "execution_count": 50,
   "metadata": {},
   "outputs": [
    {
     "data": {
      "text/plain": [
       "(0.997839668607711,\n",
       " [['ringtone',\n",
       "   'content',\n",
       "   'tones',\n",
       "   'reply',\n",
       "   'order',\n",
       "   'text',\n",
       "   'free',\n",
       "   'sale',\n",
       "   'sms',\n",
       "   'uk'],\n",
       "  ['my', 'ì_', 'if', 'ah', 'got', 'say', 'wan', '1st', 'pls', 'tomorrow']])"
      ]
     },
     "execution_count": 50,
     "metadata": {},
     "output_type": "execute_result"
    }
   ],
   "source": [
    "tupla"
   ]
  }
 ],
 "metadata": {
  "kernelspec": {
   "display_name": "Python 3",
   "language": "python",
   "name": "python3"
  },
  "language_info": {
   "codemirror_mode": {
    "name": "ipython",
    "version": 3
   },
   "file_extension": ".py",
   "mimetype": "text/x-python",
   "name": "python",
   "nbconvert_exporter": "python",
   "pygments_lexer": "ipython3",
   "version": "3.7.4"
  }
 },
 "nbformat": 4,
 "nbformat_minor": 2
}
